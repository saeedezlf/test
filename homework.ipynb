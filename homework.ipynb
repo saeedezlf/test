# -*- coding: utf-8 -*-
"""
Spyder Editor

This is a temporary script file.
"""

import numpy as np
import matplotlib.pyplot as plt
import cv2


image = cv2.imread(r'C:\MachineLearning\image0.jpeg',cv2.IMREAD_GRAYSCALE)

image = np.where(image>=100,0,256-image)
image = image[70:420 , 90:350] 
a0 = image[10:70 , 0:60]
a1 = image[110:170 , 0:60]
a2 = image[200:270 , 0:60]
a3 = image[290:360 , 0:60]
a4 = image[10:70 , 110:170]
a5 = image[100:160 , 110:170]
a6 = image[190:260 , 110:170]
a7 = image[290:360 , 110:170]
a8 = image[10:70 , 210:280]
a9 = image[100:160 , 210:280]
plt.imshow(a9)
plt.show()